{
  "nbformat": 4,
  "nbformat_minor": 0,
  "metadata": {
    "colab": {
      "provenance": [],
      "gpuType": "T4",
      "authorship_tag": "ABX9TyN1z4fvBeC81pTgs/7lCBdU"
    },
    "kernelspec": {
      "name": "python3",
      "display_name": "Python 3"
    },
    "language_info": {
      "name": "python"
    },
    "accelerator": "GPU"
  },
  "cells": [
    {
      "cell_type": "markdown",
      "source": [
        "###Installation and Importing Dependencies"
      ],
      "metadata": {
        "id": "Lg-2cYPFi1oX"
      }
    },
    {
      "cell_type": "code",
      "source": [
        "!pip install stable-baselines3[extra]"
      ],
      "metadata": {
        "id": "rt0Rh2meiWww"
      },
      "execution_count": null,
      "outputs": []
    },
    {
      "cell_type": "code",
      "source": [
        "!wget http://www.atarimania.com/roms/Roms.rar"
      ],
      "metadata": {
        "id": "kCWTSXbyiz6i"
      },
      "execution_count": null,
      "outputs": []
    },
    {
      "cell_type": "code",
      "source": [
        "!7z x Roms.rar"
      ],
      "metadata": {
        "id": "9rBl4XkdjD7K"
      },
      "execution_count": null,
      "outputs": []
    },
    {
      "cell_type": "code",
      "execution_count": 36,
      "metadata": {
        "id": "iuKHqx0phF5d"
      },
      "outputs": [],
      "source": [
        "import gym\n",
        "from stable_baselines3 import A2C\n",
        "from stable_baselines3.common.vec_env import VecFrameStack\n",
        "from stable_baselines3.common.evaluation import evaluate_policy\n",
        "from stable_baselines3.common.env_util import make_atari_env\n",
        "import os\n",
        "import imageio\n",
        "import numpy as np\n",
        "from pyvirtualdisplay import Display"
      ]
    },
    {
      "cell_type": "markdown",
      "source": [
        "## Creating Environment && Training"
      ],
      "metadata": {
        "id": "vcZeLjvZDDGg"
      }
    },
    {
      "cell_type": "code",
      "source": [
        "env = make_atari_env(\"ALE/MsPacman-v5\", n_envs=4, seed=0)\n",
        "env = VecFrameStack(env, n_stack=4)"
      ],
      "metadata": {
        "id": "yl4Kv3Mrh2XK"
      },
      "execution_count": 16,
      "outputs": []
    },
    {
      "cell_type": "code",
      "source": [
        "log_path = os.path.join('content','Training', 'Logs')"
      ],
      "metadata": {
        "id": "B9TgNoBVojgX"
      },
      "execution_count": 19,
      "outputs": []
    },
    {
      "cell_type": "code",
      "source": [
        "model = A2C(\"CnnPolicy\", env, verbose=1, tensorboard_log=log_path)"
      ],
      "metadata": {
        "id": "D03PeLreowyd"
      },
      "execution_count": null,
      "outputs": []
    },
    {
      "cell_type": "code",
      "source": [
        "model.learn(total_timesteps=400000)"
      ],
      "metadata": {
        "id": "9o9ikYl-o8pv"
      },
      "execution_count": null,
      "outputs": []
    },
    {
      "cell_type": "code",
      "source": [
        "save_path = os.path.join('Training', 'Saved Models', 'Pacman')"
      ],
      "metadata": {
        "id": "Xvs4ROQPpp0j"
      },
      "execution_count": 22,
      "outputs": []
    },
    {
      "cell_type": "code",
      "source": [
        "model.save(save_path)"
      ],
      "metadata": {
        "id": "9xihGPdZp0uk"
      },
      "execution_count": 23,
      "outputs": []
    },
    {
      "cell_type": "markdown",
      "source": [
        "## Evaluating Model"
      ],
      "metadata": {
        "id": "bi0ThEkoDMg3"
      }
    },
    {
      "cell_type": "code",
      "source": [
        "env = make_atari_env(\"ALE/MsPacman-v5\", n_envs=1, seed=0)\n",
        "env = VecFrameStack(env, n_stack=4)"
      ],
      "metadata": {
        "id": "2sHMrJ_ip74X"
      },
      "execution_count": 24,
      "outputs": []
    },
    {
      "cell_type": "code",
      "source": [
        "model = A2C.load(save_path, env)"
      ],
      "metadata": {
        "id": "qsmdoiLAp-m6"
      },
      "execution_count": null,
      "outputs": []
    },
    {
      "cell_type": "code",
      "source": [
        "evaluate_policy(model, env, n_eval_episodes=5, render=True)"
      ],
      "metadata": {
        "id": "snLLTNrhqW7d"
      },
      "execution_count": null,
      "outputs": []
    },
    {
      "cell_type": "code",
      "source": [
        "obs = env.reset()\n",
        "while True:\n",
        "    action, _states = model.predict(obs)\n",
        "    obs, rewards, dones, info = env.step(action)\n",
        "    env.render()"
      ],
      "metadata": {
        "id": "OqVfZ_2B3UJy"
      },
      "execution_count": null,
      "outputs": []
    }
  ]
}